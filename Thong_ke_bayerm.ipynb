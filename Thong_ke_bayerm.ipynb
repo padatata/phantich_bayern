{
 "cells": [
  {
   "cell_type": "code",
   "execution_count": 2,
   "id": "db882869",
   "metadata": {},
   "outputs": [],
   "source": [
    "import pandas as pd\n",
    "import numpy as np\n",
    "import matplotlib.pyplot as plt"
   ]
  },
  {
   "cell_type": "code",
   "execution_count": 3,
   "id": "7c8ae8d6",
   "metadata": {},
   "outputs": [],
   "source": [
    "df = pd.read_csv(r\"C:\\Users\\Cymato\\Downloads\\python\\tuhoc\\data\\bundesliga_top7_offensive.csv\")"
   ]
  },
  {
   "cell_type": "code",
   "execution_count": 4,
   "id": "07a2eb92",
   "metadata": {},
   "outputs": [
    {
     "data": {
      "text/html": [
       "<div>\n",
       "<style scoped>\n",
       "    .dataframe tbody tr th:only-of-type {\n",
       "        vertical-align: middle;\n",
       "    }\n",
       "\n",
       "    .dataframe tbody tr th {\n",
       "        vertical-align: top;\n",
       "    }\n",
       "\n",
       "    .dataframe thead th {\n",
       "        text-align: right;\n",
       "    }\n",
       "</style>\n",
       "<table border=\"1\" class=\"dataframe\">\n",
       "  <thead>\n",
       "    <tr style=\"text-align: right;\">\n",
       "      <th></th>\n",
       "      <th>Name</th>\n",
       "      <th>Club</th>\n",
       "      <th>Nationality</th>\n",
       "      <th>Position</th>\n",
       "      <th>Age</th>\n",
       "      <th>Matches</th>\n",
       "      <th>Starts</th>\n",
       "      <th>Mins</th>\n",
       "      <th>Goals</th>\n",
       "      <th>Assists</th>\n",
       "      <th>Penalty_Goals</th>\n",
       "      <th>Penalty_Attempted</th>\n",
       "      <th>xG</th>\n",
       "      <th>xA</th>\n",
       "      <th>Yellow_Cards</th>\n",
       "      <th>Red_Cards</th>\n",
       "    </tr>\n",
       "  </thead>\n",
       "  <tbody>\n",
       "    <tr>\n",
       "      <th>0</th>\n",
       "      <td>Manuel Neuer</td>\n",
       "      <td>Bayern Munich</td>\n",
       "      <td>GER</td>\n",
       "      <td>GK</td>\n",
       "      <td>34</td>\n",
       "      <td>33</td>\n",
       "      <td>33</td>\n",
       "      <td>2970</td>\n",
       "      <td>0</td>\n",
       "      <td>0</td>\n",
       "      <td>0</td>\n",
       "      <td>0</td>\n",
       "      <td>0.00</td>\n",
       "      <td>0.01</td>\n",
       "      <td>1</td>\n",
       "      <td>0</td>\n",
       "    </tr>\n",
       "    <tr>\n",
       "      <th>1</th>\n",
       "      <td>Thomas Müller</td>\n",
       "      <td>Bayern Munich</td>\n",
       "      <td>GER</td>\n",
       "      <td>MF</td>\n",
       "      <td>30</td>\n",
       "      <td>32</td>\n",
       "      <td>31</td>\n",
       "      <td>2674</td>\n",
       "      <td>11</td>\n",
       "      <td>19</td>\n",
       "      <td>1</td>\n",
       "      <td>1</td>\n",
       "      <td>0.24</td>\n",
       "      <td>0.39</td>\n",
       "      <td>0</td>\n",
       "      <td>0</td>\n",
       "    </tr>\n",
       "    <tr>\n",
       "      <th>2</th>\n",
       "      <td>David Alaba</td>\n",
       "      <td>Bayern Munich</td>\n",
       "      <td>AUT</td>\n",
       "      <td>DF,MF</td>\n",
       "      <td>28</td>\n",
       "      <td>32</td>\n",
       "      <td>30</td>\n",
       "      <td>2675</td>\n",
       "      <td>2</td>\n",
       "      <td>4</td>\n",
       "      <td>0</td>\n",
       "      <td>0</td>\n",
       "      <td>0.04</td>\n",
       "      <td>0.08</td>\n",
       "      <td>4</td>\n",
       "      <td>0</td>\n",
       "    </tr>\n",
       "    <tr>\n",
       "      <th>3</th>\n",
       "      <td>Jérôme Boateng</td>\n",
       "      <td>Bayern Munich</td>\n",
       "      <td>GER</td>\n",
       "      <td>DF</td>\n",
       "      <td>31</td>\n",
       "      <td>29</td>\n",
       "      <td>29</td>\n",
       "      <td>2368</td>\n",
       "      <td>1</td>\n",
       "      <td>1</td>\n",
       "      <td>0</td>\n",
       "      <td>0</td>\n",
       "      <td>0.01</td>\n",
       "      <td>0.02</td>\n",
       "      <td>6</td>\n",
       "      <td>0</td>\n",
       "    </tr>\n",
       "    <tr>\n",
       "      <th>4</th>\n",
       "      <td>Robert Lewandowski</td>\n",
       "      <td>Bayern Munich</td>\n",
       "      <td>POL</td>\n",
       "      <td>FW</td>\n",
       "      <td>31</td>\n",
       "      <td>29</td>\n",
       "      <td>28</td>\n",
       "      <td>2458</td>\n",
       "      <td>41</td>\n",
       "      <td>7</td>\n",
       "      <td>8</td>\n",
       "      <td>9</td>\n",
       "      <td>1.16</td>\n",
       "      <td>0.13</td>\n",
       "      <td>4</td>\n",
       "      <td>0</td>\n",
       "    </tr>\n",
       "  </tbody>\n",
       "</table>\n",
       "</div>"
      ],
      "text/plain": [
       "                 Name           Club Nationality Position  Age  Matches  \\\n",
       "0        Manuel Neuer  Bayern Munich         GER       GK   34       33   \n",
       "1       Thomas Müller  Bayern Munich         GER       MF   30       32   \n",
       "2         David Alaba  Bayern Munich         AUT    DF,MF   28       32   \n",
       "3      Jérôme Boateng  Bayern Munich         GER       DF   31       29   \n",
       "4  Robert Lewandowski  Bayern Munich         POL       FW   31       29   \n",
       "\n",
       "   Starts  Mins  Goals  Assists  Penalty_Goals  Penalty_Attempted    xG    xA  \\\n",
       "0      33  2970      0        0              0                  0  0.00  0.01   \n",
       "1      31  2674     11       19              1                  1  0.24  0.39   \n",
       "2      30  2675      2        4              0                  0  0.04  0.08   \n",
       "3      29  2368      1        1              0                  0  0.01  0.02   \n",
       "4      28  2458     41        7              8                  9  1.16  0.13   \n",
       "\n",
       "   Yellow_Cards  Red_Cards  \n",
       "0             1          0  \n",
       "1             0          0  \n",
       "2             4          0  \n",
       "3             6          0  \n",
       "4             4          0  "
      ]
     },
     "execution_count": 4,
     "metadata": {},
     "output_type": "execute_result"
    }
   ],
   "source": [
    "df.head()"
   ]
  },
  {
   "cell_type": "code",
   "execution_count": 5,
   "id": "5a242d28",
   "metadata": {},
   "outputs": [
    {
     "data": {
      "text/html": [
       "<div>\n",
       "<style scoped>\n",
       "    .dataframe tbody tr th:only-of-type {\n",
       "        vertical-align: middle;\n",
       "    }\n",
       "\n",
       "    .dataframe tbody tr th {\n",
       "        vertical-align: top;\n",
       "    }\n",
       "\n",
       "    .dataframe thead th {\n",
       "        text-align: right;\n",
       "    }\n",
       "</style>\n",
       "<table border=\"1\" class=\"dataframe\">\n",
       "  <thead>\n",
       "    <tr style=\"text-align: right;\">\n",
       "      <th></th>\n",
       "      <th>Age</th>\n",
       "      <th>Matches</th>\n",
       "      <th>Starts</th>\n",
       "      <th>Mins</th>\n",
       "      <th>Goals</th>\n",
       "      <th>Assists</th>\n",
       "      <th>Penalty_Goals</th>\n",
       "      <th>Penalty_Attempted</th>\n",
       "      <th>xG</th>\n",
       "      <th>xA</th>\n",
       "      <th>Yellow_Cards</th>\n",
       "      <th>Red_Cards</th>\n",
       "    </tr>\n",
       "  </thead>\n",
       "  <tbody>\n",
       "    <tr>\n",
       "      <th>count</th>\n",
       "      <td>29.000000</td>\n",
       "      <td>29.000000</td>\n",
       "      <td>29.000000</td>\n",
       "      <td>29.000000</td>\n",
       "      <td>29.000000</td>\n",
       "      <td>29.000000</td>\n",
       "      <td>29.000000</td>\n",
       "      <td>29.000000</td>\n",
       "      <td>29.000000</td>\n",
       "      <td>29.000000</td>\n",
       "      <td>29.000000</td>\n",
       "      <td>29.000000</td>\n",
       "    </tr>\n",
       "    <tr>\n",
       "      <th>mean</th>\n",
       "      <td>24.448276</td>\n",
       "      <td>17.620690</td>\n",
       "      <td>12.896552</td>\n",
       "      <td>1156.896552</td>\n",
       "      <td>3.379310</td>\n",
       "      <td>2.586207</td>\n",
       "      <td>0.310345</td>\n",
       "      <td>0.344828</td>\n",
       "      <td>0.158966</td>\n",
       "      <td>0.111034</td>\n",
       "      <td>1.517241</td>\n",
       "      <td>0.103448</td>\n",
       "    </tr>\n",
       "    <tr>\n",
       "      <th>std</th>\n",
       "      <td>4.755344</td>\n",
       "      <td>11.666233</td>\n",
       "      <td>11.530533</td>\n",
       "      <td>983.404231</td>\n",
       "      <td>7.853179</td>\n",
       "      <td>4.452265</td>\n",
       "      <td>1.490528</td>\n",
       "      <td>1.674938</td>\n",
       "      <td>0.232615</td>\n",
       "      <td>0.117027</td>\n",
       "      <td>1.703372</td>\n",
       "      <td>0.309934</td>\n",
       "    </tr>\n",
       "    <tr>\n",
       "      <th>min</th>\n",
       "      <td>17.000000</td>\n",
       "      <td>1.000000</td>\n",
       "      <td>0.000000</td>\n",
       "      <td>18.000000</td>\n",
       "      <td>0.000000</td>\n",
       "      <td>0.000000</td>\n",
       "      <td>0.000000</td>\n",
       "      <td>0.000000</td>\n",
       "      <td>0.000000</td>\n",
       "      <td>0.000000</td>\n",
       "      <td>0.000000</td>\n",
       "      <td>0.000000</td>\n",
       "    </tr>\n",
       "    <tr>\n",
       "      <th>25%</th>\n",
       "      <td>20.000000</td>\n",
       "      <td>6.000000</td>\n",
       "      <td>1.000000</td>\n",
       "      <td>118.000000</td>\n",
       "      <td>0.000000</td>\n",
       "      <td>0.000000</td>\n",
       "      <td>0.000000</td>\n",
       "      <td>0.000000</td>\n",
       "      <td>0.010000</td>\n",
       "      <td>0.020000</td>\n",
       "      <td>0.000000</td>\n",
       "      <td>0.000000</td>\n",
       "    </tr>\n",
       "    <tr>\n",
       "      <th>50%</th>\n",
       "      <td>24.000000</td>\n",
       "      <td>22.000000</td>\n",
       "      <td>8.000000</td>\n",
       "      <td>881.000000</td>\n",
       "      <td>1.000000</td>\n",
       "      <td>1.000000</td>\n",
       "      <td>0.000000</td>\n",
       "      <td>0.000000</td>\n",
       "      <td>0.070000</td>\n",
       "      <td>0.070000</td>\n",
       "      <td>1.000000</td>\n",
       "      <td>0.000000</td>\n",
       "    </tr>\n",
       "    <tr>\n",
       "      <th>75%</th>\n",
       "      <td>28.000000</td>\n",
       "      <td>27.000000</td>\n",
       "      <td>22.000000</td>\n",
       "      <td>1805.000000</td>\n",
       "      <td>4.000000</td>\n",
       "      <td>2.000000</td>\n",
       "      <td>0.000000</td>\n",
       "      <td>0.000000</td>\n",
       "      <td>0.240000</td>\n",
       "      <td>0.170000</td>\n",
       "      <td>2.000000</td>\n",
       "      <td>0.000000</td>\n",
       "    </tr>\n",
       "    <tr>\n",
       "      <th>max</th>\n",
       "      <td>34.000000</td>\n",
       "      <td>33.000000</td>\n",
       "      <td>33.000000</td>\n",
       "      <td>2970.000000</td>\n",
       "      <td>41.000000</td>\n",
       "      <td>19.000000</td>\n",
       "      <td>8.000000</td>\n",
       "      <td>9.000000</td>\n",
       "      <td>1.160000</td>\n",
       "      <td>0.390000</td>\n",
       "      <td>6.000000</td>\n",
       "      <td>1.000000</td>\n",
       "    </tr>\n",
       "  </tbody>\n",
       "</table>\n",
       "</div>"
      ],
      "text/plain": [
       "             Age    Matches     Starts         Mins      Goals    Assists  \\\n",
       "count  29.000000  29.000000  29.000000    29.000000  29.000000  29.000000   \n",
       "mean   24.448276  17.620690  12.896552  1156.896552   3.379310   2.586207   \n",
       "std     4.755344  11.666233  11.530533   983.404231   7.853179   4.452265   \n",
       "min    17.000000   1.000000   0.000000    18.000000   0.000000   0.000000   \n",
       "25%    20.000000   6.000000   1.000000   118.000000   0.000000   0.000000   \n",
       "50%    24.000000  22.000000   8.000000   881.000000   1.000000   1.000000   \n",
       "75%    28.000000  27.000000  22.000000  1805.000000   4.000000   2.000000   \n",
       "max    34.000000  33.000000  33.000000  2970.000000  41.000000  19.000000   \n",
       "\n",
       "       Penalty_Goals  Penalty_Attempted         xG         xA  Yellow_Cards  \\\n",
       "count      29.000000          29.000000  29.000000  29.000000     29.000000   \n",
       "mean        0.310345           0.344828   0.158966   0.111034      1.517241   \n",
       "std         1.490528           1.674938   0.232615   0.117027      1.703372   \n",
       "min         0.000000           0.000000   0.000000   0.000000      0.000000   \n",
       "25%         0.000000           0.000000   0.010000   0.020000      0.000000   \n",
       "50%         0.000000           0.000000   0.070000   0.070000      1.000000   \n",
       "75%         0.000000           0.000000   0.240000   0.170000      2.000000   \n",
       "max         8.000000           9.000000   1.160000   0.390000      6.000000   \n",
       "\n",
       "       Red_Cards  \n",
       "count  29.000000  \n",
       "mean    0.103448  \n",
       "std     0.309934  \n",
       "min     0.000000  \n",
       "25%     0.000000  \n",
       "50%     0.000000  \n",
       "75%     0.000000  \n",
       "max     1.000000  "
      ]
     },
     "execution_count": 5,
     "metadata": {},
     "output_type": "execute_result"
    }
   ],
   "source": [
    "df_BM = df[df[\"Club\"]==\"Bayern Munich\"]\n",
    "df_BM.describe()"
   ]
  },
  {
   "cell_type": "code",
   "execution_count": 6,
   "id": "7c7392e5",
   "metadata": {},
   "outputs": [
    {
     "data": {
      "text/plain": [
       "Nationality\n",
       "AUT     1\n",
       "BRA     1\n",
       "CAN     1\n",
       "CMR     1\n",
       "ESP     2\n",
       "FRA     6\n",
       "GER    12\n",
       "GUI     1\n",
       "NED     1\n",
       "POL     1\n",
       "POR     1\n",
       "USA     1\n",
       "Name: Nationality, dtype: int64"
      ]
     },
     "execution_count": 6,
     "metadata": {},
     "output_type": "execute_result"
    }
   ],
   "source": [
    "#count position\n",
    "df_BM.groupby(\"Nationality\")[\"Nationality\"].count()"
   ]
  },
  {
   "cell_type": "code",
   "execution_count": 53,
   "id": "35226252",
   "metadata": {},
   "outputs": [],
   "source": [
    "BM_GER = df_BM[df_BM.Nationality==\"GER\"]"
   ]
  },
  {
   "cell_type": "code",
   "execution_count": 69,
   "id": "61283039",
   "metadata": {},
   "outputs": [
    {
     "data": {
      "text/plain": [
       "34"
      ]
     },
     "execution_count": 69,
     "metadata": {},
     "output_type": "execute_result"
    }
   ],
   "source": [
    "BM_GER[\"Age\"].min()\n",
    "BM_GER[\"Age\"].max()"
   ]
  },
  {
   "cell_type": "code",
   "execution_count": 72,
   "id": "08e7df25",
   "metadata": {},
   "outputs": [
    {
     "data": {
      "text/html": [
       "<div>\n",
       "<style scoped>\n",
       "    .dataframe tbody tr th:only-of-type {\n",
       "        vertical-align: middle;\n",
       "    }\n",
       "\n",
       "    .dataframe tbody tr th {\n",
       "        vertical-align: top;\n",
       "    }\n",
       "\n",
       "    .dataframe thead th {\n",
       "        text-align: right;\n",
       "    }\n",
       "</style>\n",
       "<table border=\"1\" class=\"dataframe\">\n",
       "  <thead>\n",
       "    <tr style=\"text-align: right;\">\n",
       "      <th></th>\n",
       "      <th>Name</th>\n",
       "      <th>Club</th>\n",
       "      <th>Nationality</th>\n",
       "      <th>Position</th>\n",
       "      <th>Age</th>\n",
       "      <th>Matches</th>\n",
       "      <th>Starts</th>\n",
       "      <th>Mins</th>\n",
       "      <th>Goals</th>\n",
       "      <th>Assists</th>\n",
       "      <th>Penalty_Goals</th>\n",
       "      <th>Penalty_Attempted</th>\n",
       "      <th>xG</th>\n",
       "      <th>xA</th>\n",
       "      <th>Yellow_Cards</th>\n",
       "      <th>Red_Cards</th>\n",
       "    </tr>\n",
       "  </thead>\n",
       "  <tbody>\n",
       "    <tr>\n",
       "      <th>0</th>\n",
       "      <td>Manuel Neuer</td>\n",
       "      <td>Bayern Munich</td>\n",
       "      <td>GER</td>\n",
       "      <td>GK</td>\n",
       "      <td>34</td>\n",
       "      <td>33</td>\n",
       "      <td>33</td>\n",
       "      <td>2970</td>\n",
       "      <td>0</td>\n",
       "      <td>0</td>\n",
       "      <td>0</td>\n",
       "      <td>0</td>\n",
       "      <td>0.0</td>\n",
       "      <td>0.01</td>\n",
       "      <td>1</td>\n",
       "      <td>0</td>\n",
       "    </tr>\n",
       "  </tbody>\n",
       "</table>\n",
       "</div>"
      ],
      "text/plain": [
       "           Name           Club Nationality Position  Age  Matches  Starts  \\\n",
       "0  Manuel Neuer  Bayern Munich         GER       GK   34       33      33   \n",
       "\n",
       "   Mins  Goals  Assists  Penalty_Goals  Penalty_Attempted   xG    xA  \\\n",
       "0  2970      0        0              0                  0  0.0  0.01   \n",
       "\n",
       "   Yellow_Cards  Red_Cards  \n",
       "0             1          0  "
      ]
     },
     "execution_count": 72,
     "metadata": {},
     "output_type": "execute_result"
    }
   ],
   "source": [
    "BM_GER[BM_GER[\"Age\"]==34]"
   ]
  },
  {
   "cell_type": "code",
   "execution_count": 11,
   "id": "3661c19b",
   "metadata": {},
   "outputs": [
    {
     "data": {
      "image/png": "[encoded data removed]",
      "text/plain": [
       "<Figure size 1152x432 with 1 Axes>"
      ]
     },
     "metadata": {
      "needs_background": "light"
     },
     "output_type": "display_data"
    }
   ],
   "source": [
    "plt.rcParams['figure.figsize']=(16,6)\n",
    "sort_goal=df_BM.sort_values(by='Goals', ascending=False)\n",
    "name = sort_goal[\"Name\"]\n",
    "goal = sort_goal[\"Goals\"]\n",
    "plt.bar(name, goal)\n",
    "plt.title(\"So luong ban thang cua cac cau thu\")\n",
    "plt.xticks(rotation ='vertical')\n",
    "plt.show()"
   ]
  },
  {
   "cell_type": "code",
   "execution_count": 12,
   "id": "3d8b8ff7",
   "metadata": {},
   "outputs": [
    {
     "data": {
      "text/plain": [
       "Text(0.5, 1.0, 'Thong ke cac chi so trung binh cua cac cau thu mang quoc tich khac nhau')"
      ]
     },
     "execution_count": 12,
     "metadata": {},
     "output_type": "execute_result"
    },
    {
     "data": {
      "image/png": "[encoded data removed]",
      "text/plain": [
       "<Figure size 1152x432 with 1 Axes>"
      ]
     },
     "metadata": {
      "needs_background": "light"
     },
     "output_type": "display_data"
    }
   ],
   "source": [
    "# plt.rcParams['figure.figsize']=(18,8)\n",
    "# plt.figure(figsize=(16,8))\n",
    "df_BM.groupby(\"Nationality\")[[\"Age\",\"Goals\",\"Assists\",\"Matches\",\"Starts\"]].mean().plot(kind=\"bar\")\n",
    "plt.ylabel(\"mean\")\n",
    "plt.title(\"Thong ke cac chi so trung binh cua cac cau thu mang quoc tich khac nhau\")"
   ]
  },
  {
   "cell_type": "code",
   "execution_count": 1,
   "id": "6544ed32",
   "metadata": {},
   "outputs": [],
   "source": [
    "# df_BM.groupby(\"Nationality\")[[\"Name\",\"Nationality\",\"Age\",\"Goals\",\"Assists\",\"Matches\",\"Starts\"]].apply(print)"
   ]
  },
  {
   "cell_type": "code",
   "execution_count": 107,
   "id": "fe77cd96",
   "metadata": {},
   "outputs": [
    {
     "data": {
      "text/plain": [
       "<AxesSubplot:>"
      ]
     },
     "execution_count": 107,
     "metadata": {},
     "output_type": "execute_result"
    },
    {
     "data": {
      "image/png": "[encoded data removed]",
      "text/plain": [
       "<Figure size 720x432 with 1 Axes>"
      ]
     },
     "metadata": {
      "needs_background": "light"
     },
     "output_type": "display_data"
    }
   ],
   "source": [
    "plt.rcParams['figure.figsize']=(10,6)\n",
    "df_BM[[\"Goals\",\"Assists\"]].plot (kind ='box')"
   ]
  },
  {
   "cell_type": "code",
   "execution_count": 15,
   "id": "30a76ffc",
   "metadata": {},
   "outputs": [
    {
     "data": {
      "image/png": "[encoded data removed]",
      "text/plain": [
       "<Figure size 1152x576 with 2 Axes>"
      ]
     },
     "metadata": {
      "needs_background": "light"
     },
     "output_type": "display_data"
    }
   ],
   "source": [
    "fig, axes = plt.subplots(nrows=1, ncols=2, figsize=(16,8))\n",
    "df_BM.groupby(\"Nationality\")[[\"Mins\"]].sum().plot(kind=\"bar\",linewidth=3, ax=axes[0])\n",
    "axes[0].set_ylabel('Min',fontsize=12)\n",
    "axes[0].set_title(\"Tong so phut ra san cua cac cau thu\")\n",
    "df_BM.groupby(\"Nationality\")[[\"Goals\"]].sum().plot(kind=\"bar\",linewidth=5, ax=axes[1])\n",
    "axes[1].set_ylabel('Goal',fontsize=12)\n",
    "axes[1].set_title(\"Tong so ban thang cua cac cau thu tren quoc tich\")\n",
    "plt.show()"
   ]
  },
  {
   "cell_type": "code",
   "execution_count": null,
   "id": "bc9114d1",
   "metadata": {},
   "outputs": [],
   "source": []
  }
 ],
 "metadata": {
  "kernelspec": {
   "display_name": "Python 3",
   "language": "python",
   "name": "python3"
  },
  "language_info": {
   "codemirror_mode": {
    "name": "ipython",
    "version": 3
   },
   "file_extension": ".py",
   "mimetype": "text/x-python",
   "name": "python",
   "nbconvert_exporter": "python",
   "pygments_lexer": "ipython3",
   "version": "3.7.10"
  }
 },
 "nbformat": 4,
 "nbformat_minor": 5
}
